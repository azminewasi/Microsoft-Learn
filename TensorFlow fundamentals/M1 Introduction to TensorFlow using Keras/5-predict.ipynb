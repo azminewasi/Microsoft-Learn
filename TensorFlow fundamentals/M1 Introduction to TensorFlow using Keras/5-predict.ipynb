{
  "cells": [
    {
      "cell_type": "code",
      "source": [
        "import os\n",
        "os.environ[\"CUDA_VISIBLE_DEVICES\"] = \"-1\"\n",
        "\n",
        "import numpy as np\n",
        "import tensorflow as tf\n",
        "import requests\n",
        "from PIL import Image\n",
        "import matplotlib.pyplot as plt"
      ],
      "outputs": [],
      "execution_count": 1,
      "metadata": {}
    },
    {
      "cell_type": "markdown",
      "source": [
        "Assuming we achieved pretty good accuracy during the training and testing phases, we can now use the trained model for inference &mdash; in other words, to predict the classification of images that the network has never seen before.\n",
        "\n",
        "But before we move on, we'll load the code you've already seen in previous notebooks:"
      ],
      "metadata": {}
    },
    {
      "cell_type": "code",
      "source": [
        "!wget -Nq https://raw.githubusercontent.com/MicrosoftDocs/tensorflow-learning-path/main/intro-keras/kintro.py\n",
        "from kintro import *"
      ],
      "outputs": [],
      "execution_count": 2,
      "metadata": {}
    },
    {
      "cell_type": "markdown",
      "source": [
        "Remember that in the previous notebook, after successfully training our network, we saved the model. Let's load it back into memory."
      ],
      "metadata": {}
    },
    {
      "cell_type": "code",
      "source": [
        "  model = tf.keras.models.load_model('outputs/model')"
      ],
      "outputs": [],
      "execution_count": 3,
      "metadata": {}
    },
    {
      "cell_type": "markdown",
      "source": [
        "Making a prediction is easy &mdash; we simply call the model's `predict` method and pass one or more images. Let's start by geting the image we'll use for prediction, and let's display it:"
      ],
      "metadata": {}
    },
    {
      "cell_type": "code",
      "source": [
        "url = 'https://raw.githubusercontent.com/MicrosoftDocs/tensorflow-learning-path/main/intro-keras/predict-image.png'\n",
        "\n",
        "with Image.open(requests.get(url, stream=True).raw) as image:\n",
        "  X = np.asarray(image, dtype=np.float32).reshape((-1, 28, 28)) / 255.0\n",
        "\n",
        "plt.figure()\n",
        "plt.axis('off')\n",
        "plt.imshow(X.squeeze(), cmap='gray')\n",
        "plt.show()"
      ],
      "outputs": [
        {
          "output_type": "display_data",
          "data": {
            "text/plain": "<Figure size 432x288 with 1 Axes>",
            "image/png": "[encoded data removed]"
          },
          "metadata": {
            "needs_background": "light"
          }
        }
      ],
      "execution_count": 4,
      "metadata": {}
    },
    {
      "cell_type": "markdown",
      "source": [
        "As you can see, we have an image of an ankle boot. In the code below, we load the image, call `predict` to get its class index, and map that index to the class name.  "
      ],
      "metadata": {}
    },
    {
      "cell_type": "code",
      "source": [
        "predicted_vector = model.predict(X)\n",
        "predicted_index = np.argmax(predicted_vector)\n",
        "predicted_name = labels_map[predicted_index]\n",
        "\n",
        "print(f'Predicted class: {predicted_name}')"
      ],
      "outputs": [
        {
          "output_type": "stream",
          "name": "stdout",
          "text": "Predicted class: Ankle Boot\n"
        }
      ],
      "execution_count": 5,
      "metadata": {}
    },
    {
      "cell_type": "markdown",
      "source": [
        "Note that you can also get probabilities of the input image being of a certain class, in which case we need to normalize the output of our network using `softmax` to get probabilities. Here are the predictions for our image: "
      ],
      "metadata": {}
    },
    {
      "cell_type": "code",
      "source": [
        "probs = tf.nn.softmax(predicted_vector.reshape((-1,)))\n",
        "for i,p in enumerate(probs):\n",
        "    print(f'{labels_map[i]} -> {p:.3f}')"
      ],
      "outputs": [
        {
          "output_type": "stream",
          "name": "stdout",
          "text": "T-Shirt -> 0.000\nTrouser -> 0.000\nPullover -> 0.000\nDress -> 0.000\nCoat -> 0.000\nSandal -> 0.174\nShirt -> 0.000\nSneaker -> 0.050\nBag -> 0.004\nAnkle Boot -> 0.772\n"
        }
      ],
      "execution_count": 6,
      "metadata": {}
    },
    {
      "cell_type": "markdown",
      "source": [
        "If you need to compute probabilities often, you can specify `activation='softmax'` for the final `Dense` layer of your network. In this case the network would give you probabilities as output, and you need to omit `use_logits=True` in the `SparseCategoricalCrossentropy` loss function. "
      ],
      "metadata": {}
    }
  ],
  "metadata": {
    "interpreter": {
      "hash": "a7d8d32a02de2fe32a77a4e581138922e011c09664b6c2991156e76c4176efab"
    },
    "kernelspec": {
      "name": "azureml_py38_PT_and_TF",
      "language": "python",
      "display_name": "azureml_py38_PT_and_TF"
    },
    "language_info": {
      "name": "python",
      "version": "3.8.10",
      "mimetype": "text/x-python",
      "codemirror_mode": {
        "name": "ipython",
        "version": 3
      },
      "pygments_lexer": "ipython3",
      "nbconvert_exporter": "python",
      "file_extension": ".py"
    },
    "kernel_info": {
      "name": "azureml_py38_PT_and_TF"
    },
    "nteract": {
      "version": "nteract-front-end@1.0.0"
    }
  },
  "nbformat": 4,
  "nbformat_minor": 4
}