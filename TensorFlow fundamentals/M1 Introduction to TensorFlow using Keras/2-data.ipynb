{
  "cells": [
    {
      "cell_type": "code",
      "source": [
        "import os\n",
        "os.environ[\"CUDA_VISIBLE_DEVICES\"] = \"-1\"\n",
        "\n",
        "import tensorflow as tf\n",
        "import gzip\n",
        "import numpy as np"
      ],
      "outputs": [],
      "execution_count": 1,
      "metadata": {}
    },
    {
      "cell_type": "markdown",
      "source": [
        "Let's start by getting familiar with the data we'll be using, the Fashion MNIST dataset. This dataset contains 70,000 grayscale images of articles of clothing &mdash; 60,000 meant to be used for training and 10,000 meant for testing. The images are square and contain 28 &times; 28 = 784 pixels, where each pixel is represented by a value between 0 and 255. Each of these images is associated with a label, which is an integer between 0 and 9 that classifies the article of clothing. The following dictionary helps us understand the clothing categories corresponding to these integer labels:"
      ],
      "metadata": {}
    },
    {
      "cell_type": "code",
      "source": [
        "labels_map = {\n",
        "  0: 'T-Shirt',\n",
        "  1: 'Trouser',\n",
        "  2: 'Pullover',\n",
        "  3: 'Dress',\n",
        "  4: 'Coat',\n",
        "  5: 'Sandal',\n",
        "  6: 'Shirt',\n",
        "  7: 'Sneaker',\n",
        "  8: 'Bag',\n",
        "  9: 'Ankle Boot',\n",
        "}"
      ],
      "outputs": [],
      "execution_count": 3,
      "metadata": {}
    },
    {
      "cell_type": "markdown",
      "source": [
        "If you're following this code but executing it outside of this Microsoft Learn sandbox notebook environment, you can load Fashion MNIST by calling the [load_data()](https://www.tensorflow.org/api_docs/python/tf/keras/datasets/fashion_mnist/load_data) method of the Fashion MNIST dataset in the Keras API, as you can see in the commented out code below. Keras provides an easy way to get not only Fashion MNIST, but many other popular datasets through [tk.keras.datasets](https://www.tensorflow.org/api_docs/python/tf/keras/datasets). In this Learn sandbox notebook we already have the data locally, so we'll load it directly instead, and create four NumPy arrays containing the training and test data and labels. "
      ],
      "metadata": {}
    },
    {
      "cell_type": "code",
      "source": [
        "# (training_images, training_labels), (test_images, test_labels) = tf.keras.datasets.fashion_mnist.load_data()\n",
        "\n",
        "def read_images(path: str, image_size: int, num_items: int) -> np.ndarray:\n",
        "  with gzip.open(path, 'rb') as file:\n",
        "    data = np.frombuffer(file.read(), np.uint8, offset=16)\n",
        "    data = data.reshape(num_items, image_size, image_size)\n",
        "  return data\n",
        "\n",
        "def read_labels(path: str, num_items: int) -> np.ndarray:\n",
        "  with gzip.open(path, 'rb') as file:\n",
        "    data = np.frombuffer(file.read(num_items + 8), np.uint8, offset=8)\n",
        "    data = data.astype(np.int64)\n",
        "  return data\n",
        "\n",
        "image_size = 28\n",
        "num_train = 60000\n",
        "num_test = 10000\n",
        "\n",
        "training_images = read_images('data/FashionMNIST/raw/train-images-idx3-ubyte.gz', image_size, num_train)\n",
        "test_images = read_images('data/FashionMNIST/raw/t10k-images-idx3-ubyte.gz', image_size, num_test)\n",
        "training_labels = read_labels('data/FashionMNIST/raw/train-labels-idx1-ubyte.gz', num_train)\n",
        "test_labels = read_labels('data/FashionMNIST/raw/t10k-labels-idx1-ubyte.gz', num_test)"
      ],
      "outputs": [],
      "execution_count": 4,
      "metadata": {}
    },
    {
      "cell_type": "markdown",
      "source": [
        "Now that we have the data, we can display a sampling of images and corresponding labels from the training data, to get a feel for the data we'll be working with."
      ],
      "metadata": {}
    },
    {
      "cell_type": "code",
      "source": [
        "import random\n",
        "import matplotlib.pyplot as plt\n",
        "\n",
        "figure = plt.figure(figsize=(8, 8))\n",
        "cols = 3\n",
        "rows = 3\n",
        "for i in range(1, cols * rows + 1):\n",
        "  sample_idx = random.randint(0, len(training_images))\n",
        "  image = training_images[sample_idx]\n",
        "  label = training_labels[sample_idx]\n",
        "  figure.add_subplot(rows, cols, i)\n",
        "  plt.title(labels_map[label])\n",
        "  plt.axis('off')\n",
        "  plt.imshow(image.squeeze(), cmap='gray')\n",
        "plt.show()\n"
      ],
      "outputs": [
        {
          "output_type": "stream",
          "name": "stderr",
          "text": "Matplotlib is building the font cache; this may take a moment.\n"
        },
        {
          "output_type": "display_data",
          "data": {
            "text/plain": "<Figure size 576x576 with 9 Axes>",
            "image/png": "[encoded data removed]"
          },
          "metadata": {
            "needs_background": "light"
          }
        }
      ],
      "execution_count": 5,
      "metadata": {}
    },
    {
      "cell_type": "markdown",
      "source": [
        "Let's inspect the first label in the training data:"
      ],
      "metadata": {}
    },
    {
      "cell_type": "code",
      "source": [
        "training_labels[0]"
      ],
      "outputs": [
        {
          "output_type": "execute_result",
          "execution_count": 6,
          "data": {
            "text/plain": "9"
          },
          "metadata": {}
        }
      ],
      "execution_count": 6,
      "metadata": {}
    },
    {
      "cell_type": "markdown",
      "source": [
        "As we saw in the `labels_map` dictionary we printed earlier, this corresponds to an \"Ankle boot.\" Now let's inspect the image that corresponds to this label:  "
      ],
      "metadata": {}
    },
    {
      "cell_type": "code",
      "source": [
        "training_images[0]"
      ],
      "outputs": [
        {
          "output_type": "execute_result",
          "execution_count": 7,
          "data": {
            "text/plain": "array([[  0,   0,   0,   0,   0,   0,   0,   0,   0,   0,   0,   0,   0,\n          0,   0,   0,   0,   0,   0,   0,   0,   0,   0,   0,   0,   0,\n          0,   0],\n       [  0,   0,   0,   0,   0,   0,   0,   0,   0,   0,   0,   0,   0,\n          0,   0,   0,   0,   0,   0,   0,   0,   0,   0,   0,   0,   0,\n          0,   0],\n       [  0,   0,   0,   0,   0,   0,   0,   0,   0,   0,   0,   0,   0,\n          0,   0,   0,   0,   0,   0,   0,   0,   0,   0,   0,   0,   0,\n          0,   0],\n       [  0,   0,   0,   0,   0,   0,   0,   0,   0,   0,   0,   0,   1,\n          0,   0,  13,  73,   0,   0,   1,   4,   0,   0,   0,   0,   1,\n          1,   0],\n       [  0,   0,   0,   0,   0,   0,   0,   0,   0,   0,   0,   0,   3,\n          0,  36, 136, 127,  62,  54,   0,   0,   0,   1,   3,   4,   0,\n          0,   3],\n       [  0,   0,   0,   0,   0,   0,   0,   0,   0,   0,   0,   0,   6,\n          0, 102, 204, 176, 134, 144, 123,  23,   0,   0,   0,   0,  12,\n         10,   0],\n       [  0,   0,   0,   0,   0,   0,   0,   0,   0,   0,   0,   0,   0,\n          0, 155, 236, 207, 178, 107, 156, 161, 109,  64,  23,  77, 130,\n         72,  15],\n       [  0,   0,   0,   0,   0,   0,   0,   0,   0,   0,   0,   1,   0,\n         69, 207, 223, 218, 216, 216, 163, 127, 121, 122, 146, 141,  88,\n        172,  66],\n       [  0,   0,   0,   0,   0,   0,   0,   0,   0,   1,   1,   1,   0,\n        200, 232, 232, 233, 229, 223, 223, 215, 213, 164, 127, 123, 196,\n        229,   0],\n       [  0,   0,   0,   0,   0,   0,   0,   0,   0,   0,   0,   0,   0,\n        183, 225, 216, 223, 228, 235, 227, 224, 222, 224, 221, 223, 245,\n        173,   0],\n       [  0,   0,   0,   0,   0,   0,   0,   0,   0,   0,   0,   0,   0,\n        193, 228, 218, 213, 198, 180, 212, 210, 211, 213, 223, 220, 243,\n        202,   0],\n       [  0,   0,   0,   0,   0,   0,   0,   0,   0,   1,   3,   0,  12,\n        219, 220, 212, 218, 192, 169, 227, 208, 218, 224, 212, 226, 197,\n        209,  52],\n       [  0,   0,   0,   0,   0,   0,   0,   0,   0,   0,   6,   0,  99,\n        244, 222, 220, 218, 203, 198, 221, 215, 213, 222, 220, 245, 119,\n        167,  56],\n       [  0,   0,   0,   0,   0,   0,   0,   0,   0,   4,   0,   0,  55,\n        236, 228, 230, 228, 240, 232, 213, 218, 223, 234, 217, 217, 209,\n         92,   0],\n       [  0,   0,   1,   4,   6,   7,   2,   0,   0,   0,   0,   0, 237,\n        226, 217, 223, 222, 219, 222, 221, 216, 223, 229, 215, 218, 255,\n         77,   0],\n       [  0,   3,   0,   0,   0,   0,   0,   0,   0,  62, 145, 204, 228,\n        207, 213, 221, 218, 208, 211, 218, 224, 223, 219, 215, 224, 244,\n        159,   0],\n       [  0,   0,   0,   0,  18,  44,  82, 107, 189, 228, 220, 222, 217,\n        226, 200, 205, 211, 230, 224, 234, 176, 188, 250, 248, 233, 238,\n        215,   0],\n       [  0,  57, 187, 208, 224, 221, 224, 208, 204, 214, 208, 209, 200,\n        159, 245, 193, 206, 223, 255, 255, 221, 234, 221, 211, 220, 232,\n        246,   0],\n       [  3, 202, 228, 224, 221, 211, 211, 214, 205, 205, 205, 220, 240,\n         80, 150, 255, 229, 221, 188, 154, 191, 210, 204, 209, 222, 228,\n        225,   0],\n       [ 98, 233, 198, 210, 222, 229, 229, 234, 249, 220, 194, 215, 217,\n        241,  65,  73, 106, 117, 168, 219, 221, 215, 217, 223, 223, 224,\n        229,  29],\n       [ 75, 204, 212, 204, 193, 205, 211, 225, 216, 185, 197, 206, 198,\n        213, 240, 195, 227, 245, 239, 223, 218, 212, 209, 222, 220, 221,\n        230,  67],\n       [ 48, 203, 183, 194, 213, 197, 185, 190, 194, 192, 202, 214, 219,\n        221, 220, 236, 225, 216, 199, 206, 186, 181, 177, 172, 181, 205,\n        206, 115],\n       [  0, 122, 219, 193, 179, 171, 183, 196, 204, 210, 213, 207, 211,\n        210, 200, 196, 194, 191, 195, 191, 198, 192, 176, 156, 167, 177,\n        210,  92],\n       [  0,   0,  74, 189, 212, 191, 175, 172, 175, 181, 185, 188, 189,\n        188, 193, 198, 204, 209, 210, 210, 211, 188, 188, 194, 192, 216,\n        170,   0],\n       [  2,   0,   0,   0,  66, 200, 222, 237, 239, 242, 246, 243, 244,\n        221, 220, 193, 191, 179, 182, 182, 181, 176, 166, 168,  99,  58,\n          0,   0],\n       [  0,   0,   0,   0,   0,   0,   0,  40,  61,  44,  72,  41,  35,\n          0,   0,   0,   0,   0,   0,   0,   0,   0,   0,   0,   0,   0,\n          0,   0],\n       [  0,   0,   0,   0,   0,   0,   0,   0,   0,   0,   0,   0,   0,\n          0,   0,   0,   0,   0,   0,   0,   0,   0,   0,   0,   0,   0,\n          0,   0],\n       [  0,   0,   0,   0,   0,   0,   0,   0,   0,   0,   0,   0,   0,\n          0,   0,   0,   0,   0,   0,   0,   0,   0,   0,   0,   0,   0,\n          0,   0]], dtype=uint8)"
          },
          "metadata": {}
        }
      ],
      "execution_count": 7,
      "metadata": {}
    },
    {
      "cell_type": "markdown",
      "source": [
        "An image is composed of pixel values, and each pixel in the image is of type unsigned int and contains a value between 0 and 255.\n",
        "\n",
        "For such a small dataset, we could just use the NumPy arrays given to us by Keras to train the neural network. However, if we had a large dataset, we would need to wrap it in a [tf.data.Dataset](https://www.tensorflow.org/api_docs/python/tf/data/Dataset) instance, which handles large data better by making it easy to keep just a portion of it in memory. We've decided to wrap our data in a `Dataset` in this sample, so you're prepared to work with large data in the future."
      ],
      "metadata": {}
    },
    {
      "cell_type": "code",
      "source": [
        "train_dataset = tf.data.Dataset.from_tensor_slices((training_images, training_labels))\n",
        "test_dataset = tf.data.Dataset.from_tensor_slices((test_images, test_labels))"
      ],
      "outputs": [],
      "execution_count": 8,
      "metadata": {}
    },
    {
      "cell_type": "markdown",
      "source": [
        "You saw earlier that each pixel of the image is represented by an unsigned int. In machine learning, we generally want the pixel values of our training data to be floating-point numbers between 0 and 1, so we convert them in the following way:"
      ],
      "metadata": {}
    },
    {
      "cell_type": "code",
      "source": [
        "train_dataset = train_dataset.map(lambda image, label: (float(image) / 255.0, label))\n",
        "test_dataset = test_dataset.map(lambda image, label: (float(image) / 255.0, label))"
      ],
      "outputs": [],
      "execution_count": 9,
      "metadata": {}
    },
    {
      "cell_type": "markdown",
      "source": [
        "You may have noticed that each value returned by the `Dataset` is a tuple containing an image and a label. We divide each value in the image by 255, and we keep the label as is. Let's inspect the values of the same image we inspected earlier, to see the difference. "
      ],
      "metadata": {}
    },
    {
      "cell_type": "code",
      "source": [
        "train_dataset.as_numpy_iterator().next()[0]"
      ],
      "outputs": [
        {
          "output_type": "execute_result",
          "execution_count": 10,
          "data": {
            "text/plain": "array([[0.        , 0.        , 0.        , 0.        , 0.        ,\n        0.        , 0.        , 0.        , 0.        , 0.        ,\n        0.        , 0.        , 0.        , 0.        , 0.        ,\n        0.        , 0.        , 0.        , 0.        , 0.        ,\n        0.        , 0.        , 0.        , 0.        , 0.        ,\n        0.        , 0.        , 0.        ],\n       [0.        , 0.        , 0.        , 0.        , 0.        ,\n        0.        , 0.        , 0.        , 0.        , 0.        ,\n        0.        , 0.        , 0.        , 0.        , 0.        ,\n        0.        , 0.        , 0.        , 0.        , 0.        ,\n        0.        , 0.        , 0.        , 0.        , 0.        ,\n        0.        , 0.        , 0.        ],\n       [0.        , 0.        , 0.        , 0.        , 0.        ,\n        0.        , 0.        , 0.        , 0.        , 0.        ,\n        0.        , 0.        , 0.        , 0.        , 0.        ,\n        0.        , 0.        , 0.        , 0.        , 0.        ,\n        0.        , 0.        , 0.        , 0.        , 0.        ,\n        0.        , 0.        , 0.        ],\n       [0.        , 0.        , 0.        , 0.        , 0.        ,\n        0.        , 0.        , 0.        , 0.        , 0.        ,\n        0.        , 0.        , 0.00392157, 0.        , 0.        ,\n        0.05098039, 0.28627452, 0.        , 0.        , 0.00392157,\n        0.01568628, 0.        , 0.        , 0.        , 0.        ,\n        0.00392157, 0.00392157, 0.        ],\n       [0.        , 0.        , 0.        , 0.        , 0.        ,\n        0.        , 0.        , 0.        , 0.        , 0.        ,\n        0.        , 0.        , 0.01176471, 0.        , 0.14117648,\n        0.53333336, 0.49803922, 0.24313726, 0.21176471, 0.        ,\n        0.        , 0.        , 0.00392157, 0.01176471, 0.01568628,\n        0.        , 0.        , 0.01176471],\n       [0.        , 0.        , 0.        , 0.        , 0.        ,\n        0.        , 0.        , 0.        , 0.        , 0.        ,\n        0.        , 0.        , 0.02352941, 0.        , 0.4       ,\n        0.8       , 0.6901961 , 0.5254902 , 0.5647059 , 0.48235294,\n        0.09019608, 0.        , 0.        , 0.        , 0.        ,\n        0.04705882, 0.03921569, 0.        ],\n       [0.        , 0.        , 0.        , 0.        , 0.        ,\n        0.        , 0.        , 0.        , 0.        , 0.        ,\n        0.        , 0.        , 0.        , 0.        , 0.60784316,\n        0.9254902 , 0.8117647 , 0.69803923, 0.41960785, 0.6117647 ,\n        0.6313726 , 0.42745098, 0.2509804 , 0.09019608, 0.3019608 ,\n        0.50980395, 0.28235295, 0.05882353],\n       [0.        , 0.        , 0.        , 0.        , 0.        ,\n        0.        , 0.        , 0.        , 0.        , 0.        ,\n        0.        , 0.00392157, 0.        , 0.27058825, 0.8117647 ,\n        0.8745098 , 0.85490197, 0.84705883, 0.84705883, 0.6392157 ,\n        0.49803922, 0.4745098 , 0.47843137, 0.57254905, 0.5529412 ,\n        0.34509805, 0.6745098 , 0.25882354],\n       [0.        , 0.        , 0.        , 0.        , 0.        ,\n        0.        , 0.        , 0.        , 0.        , 0.00392157,\n        0.00392157, 0.00392157, 0.        , 0.78431374, 0.9098039 ,\n        0.9098039 , 0.9137255 , 0.8980392 , 0.8745098 , 0.8745098 ,\n        0.84313726, 0.8352941 , 0.6431373 , 0.49803922, 0.48235294,\n        0.76862746, 0.8980392 , 0.        ],\n       [0.        , 0.        , 0.        , 0.        , 0.        ,\n        0.        , 0.        , 0.        , 0.        , 0.        ,\n        0.        , 0.        , 0.        , 0.7176471 , 0.88235295,\n        0.84705883, 0.8745098 , 0.89411765, 0.92156863, 0.8901961 ,\n        0.8784314 , 0.87058824, 0.8784314 , 0.8666667 , 0.8745098 ,\n        0.9607843 , 0.6784314 , 0.        ],\n       [0.        , 0.        , 0.        , 0.        , 0.        ,\n        0.        , 0.        , 0.        , 0.        , 0.        ,\n        0.        , 0.        , 0.        , 0.75686276, 0.89411765,\n        0.85490197, 0.8352941 , 0.7764706 , 0.7058824 , 0.83137256,\n        0.8235294 , 0.827451  , 0.8352941 , 0.8745098 , 0.8627451 ,\n        0.9529412 , 0.7921569 , 0.        ],\n       [0.        , 0.        , 0.        , 0.        , 0.        ,\n        0.        , 0.        , 0.        , 0.        , 0.00392157,\n        0.01176471, 0.        , 0.04705882, 0.85882354, 0.8627451 ,\n        0.83137256, 0.85490197, 0.7529412 , 0.6627451 , 0.8901961 ,\n        0.8156863 , 0.85490197, 0.8784314 , 0.83137256, 0.8862745 ,\n        0.77254903, 0.81960785, 0.20392157],\n       [0.        , 0.        , 0.        , 0.        , 0.        ,\n        0.        , 0.        , 0.        , 0.        , 0.        ,\n        0.02352941, 0.        , 0.3882353 , 0.95686275, 0.87058824,\n        0.8627451 , 0.85490197, 0.79607844, 0.7764706 , 0.8666667 ,\n        0.84313726, 0.8352941 , 0.87058824, 0.8627451 , 0.9607843 ,\n        0.46666667, 0.654902  , 0.21960784],\n       [0.        , 0.        , 0.        , 0.        , 0.        ,\n        0.        , 0.        , 0.        , 0.        , 0.01568628,\n        0.        , 0.        , 0.21568628, 0.9254902 , 0.89411765,\n        0.9019608 , 0.89411765, 0.9411765 , 0.9098039 , 0.8352941 ,\n        0.85490197, 0.8745098 , 0.91764706, 0.8509804 , 0.8509804 ,\n        0.81960785, 0.36078432, 0.        ],\n       [0.        , 0.        , 0.00392157, 0.01568628, 0.02352941,\n        0.02745098, 0.00784314, 0.        , 0.        , 0.        ,\n        0.        , 0.        , 0.92941177, 0.8862745 , 0.8509804 ,\n        0.8745098 , 0.87058824, 0.85882354, 0.87058824, 0.8666667 ,\n        0.84705883, 0.8745098 , 0.8980392 , 0.84313726, 0.85490197,\n        1.        , 0.3019608 , 0.        ],\n       [0.        , 0.01176471, 0.        , 0.        , 0.        ,\n        0.        , 0.        , 0.        , 0.        , 0.24313726,\n        0.5686275 , 0.8       , 0.89411765, 0.8117647 , 0.8352941 ,\n        0.8666667 , 0.85490197, 0.8156863 , 0.827451  , 0.85490197,\n        0.8784314 , 0.8745098 , 0.85882354, 0.84313726, 0.8784314 ,\n        0.95686275, 0.62352943, 0.        ],\n       [0.        , 0.        , 0.        , 0.        , 0.07058824,\n        0.17254902, 0.32156864, 0.41960785, 0.7411765 , 0.89411765,\n        0.8627451 , 0.87058824, 0.8509804 , 0.8862745 , 0.78431374,\n        0.8039216 , 0.827451  , 0.9019608 , 0.8784314 , 0.91764706,\n        0.6901961 , 0.7372549 , 0.98039216, 0.972549  , 0.9137255 ,\n        0.93333334, 0.84313726, 0.        ],\n       [0.        , 0.22352941, 0.73333335, 0.8156863 , 0.8784314 ,\n        0.8666667 , 0.8784314 , 0.8156863 , 0.8       , 0.8392157 ,\n        0.8156863 , 0.81960785, 0.78431374, 0.62352943, 0.9607843 ,\n        0.75686276, 0.80784315, 0.8745098 , 1.        , 1.        ,\n        0.8666667 , 0.91764706, 0.8666667 , 0.827451  , 0.8627451 ,\n        0.9098039 , 0.9647059 , 0.        ],\n       [0.01176471, 0.7921569 , 0.89411765, 0.8784314 , 0.8666667 ,\n        0.827451  , 0.827451  , 0.8392157 , 0.8039216 , 0.8039216 ,\n        0.8039216 , 0.8627451 , 0.9411765 , 0.3137255 , 0.5882353 ,\n        1.        , 0.8980392 , 0.8666667 , 0.7372549 , 0.6039216 ,\n        0.7490196 , 0.8235294 , 0.8       , 0.81960785, 0.87058824,\n        0.89411765, 0.88235295, 0.        ],\n       [0.38431373, 0.9137255 , 0.7764706 , 0.8235294 , 0.87058824,\n        0.8980392 , 0.8980392 , 0.91764706, 0.9764706 , 0.8627451 ,\n        0.7607843 , 0.84313726, 0.8509804 , 0.94509804, 0.25490198,\n        0.28627452, 0.41568628, 0.45882353, 0.65882355, 0.85882354,\n        0.8666667 , 0.84313726, 0.8509804 , 0.8745098 , 0.8745098 ,\n        0.8784314 , 0.8980392 , 0.11372549],\n       [0.29411766, 0.8       , 0.83137256, 0.8       , 0.75686276,\n        0.8039216 , 0.827451  , 0.88235295, 0.84705883, 0.7254902 ,\n        0.77254903, 0.80784315, 0.7764706 , 0.8352941 , 0.9411765 ,\n        0.7647059 , 0.8901961 , 0.9607843 , 0.9372549 , 0.8745098 ,\n        0.85490197, 0.83137256, 0.81960785, 0.87058824, 0.8627451 ,\n        0.8666667 , 0.9019608 , 0.2627451 ],\n       [0.1882353 , 0.79607844, 0.7176471 , 0.7607843 , 0.8352941 ,\n        0.77254903, 0.7254902 , 0.74509805, 0.7607843 , 0.7529412 ,\n        0.7921569 , 0.8392157 , 0.85882354, 0.8666667 , 0.8627451 ,\n        0.9254902 , 0.88235295, 0.84705883, 0.78039217, 0.80784315,\n        0.7294118 , 0.70980394, 0.69411767, 0.6745098 , 0.70980394,\n        0.8039216 , 0.80784315, 0.4509804 ],\n       [0.        , 0.47843137, 0.85882354, 0.75686276, 0.7019608 ,\n        0.67058825, 0.7176471 , 0.76862746, 0.8       , 0.8235294 ,\n        0.8352941 , 0.8117647 , 0.827451  , 0.8235294 , 0.78431374,\n        0.76862746, 0.7607843 , 0.7490196 , 0.7647059 , 0.7490196 ,\n        0.7764706 , 0.7529412 , 0.6901961 , 0.6117647 , 0.654902  ,\n        0.69411767, 0.8235294 , 0.36078432],\n       [0.        , 0.        , 0.2901961 , 0.7411765 , 0.83137256,\n        0.7490196 , 0.6862745 , 0.6745098 , 0.6862745 , 0.70980394,\n        0.7254902 , 0.7372549 , 0.7411765 , 0.7372549 , 0.75686276,\n        0.7764706 , 0.8       , 0.81960785, 0.8235294 , 0.8235294 ,\n        0.827451  , 0.7372549 , 0.7372549 , 0.7607843 , 0.7529412 ,\n        0.84705883, 0.6666667 , 0.        ],\n       [0.00784314, 0.        , 0.        , 0.        , 0.25882354,\n        0.78431374, 0.87058824, 0.92941177, 0.9372549 , 0.9490196 ,\n        0.9647059 , 0.9529412 , 0.95686275, 0.8666667 , 0.8627451 ,\n        0.75686276, 0.7490196 , 0.7019608 , 0.7137255 , 0.7137255 ,\n        0.70980394, 0.6901961 , 0.6509804 , 0.65882355, 0.3882353 ,\n        0.22745098, 0.        , 0.        ],\n       [0.        , 0.        , 0.        , 0.        , 0.        ,\n        0.        , 0.        , 0.15686275, 0.23921569, 0.17254902,\n        0.28235295, 0.16078432, 0.13725491, 0.        , 0.        ,\n        0.        , 0.        , 0.        , 0.        , 0.        ,\n        0.        , 0.        , 0.        , 0.        , 0.        ,\n        0.        , 0.        , 0.        ],\n       [0.        , 0.        , 0.        , 0.        , 0.        ,\n        0.        , 0.        , 0.        , 0.        , 0.        ,\n        0.        , 0.        , 0.        , 0.        , 0.        ,\n        0.        , 0.        , 0.        , 0.        , 0.        ,\n        0.        , 0.        , 0.        , 0.        , 0.        ,\n        0.        , 0.        , 0.        ],\n       [0.        , 0.        , 0.        , 0.        , 0.        ,\n        0.        , 0.        , 0.        , 0.        , 0.        ,\n        0.        , 0.        , 0.        , 0.        , 0.        ,\n        0.        , 0.        , 0.        , 0.        , 0.        ,\n        0.        , 0.        , 0.        , 0.        , 0.        ,\n        0.        , 0.        , 0.        ]], dtype=float32)"
          },
          "metadata": {}
        }
      ],
      "execution_count": 10,
      "metadata": {}
    },
    {
      "cell_type": "markdown",
      "source": [
        "As expected, the pixel values are now floating-point numbers between 0 and 1. \n",
        "\n",
        "Notice that now that we have a `Dataset`, we can no longer index it the same way as a NumPy array. Instead, we get an iterator by calling the `as_numpy_iterator` method, and we advance it by calling its `next` method. At this point, we have a tuple containing an image and the corresponding label, so we can get the element at index 0 to inspect the image.\n",
        "\n",
        "Finally, we tell the `Dataset` to give us batches of data of size 64, and we shuffle the data:"
      ],
      "metadata": {}
    },
    {
      "cell_type": "code",
      "source": [
        "batch_size = 64\n",
        "train_dataset = train_dataset.batch(batch_size).shuffle(500)\n",
        "test_dataset = test_dataset.batch(batch_size).shuffle(500)"
      ],
      "outputs": [],
      "execution_count": 11,
      "metadata": {}
    },
    {
      "cell_type": "markdown",
      "source": [
        "By specifying the batch size, we're telling the `Dataset` that when we iterate over it, we want to receive not one, but a batch of 64 items instead. If we print the length of the first item returned by the iterator, we'll see that we in fact get 64. "
      ],
      "metadata": {}
    },
    {
      "cell_type": "code",
      "source": [
        "len(train_dataset.as_numpy_iterator().next()[0])"
      ],
      "outputs": [
        {
          "output_type": "execute_result",
          "execution_count": 12,
          "data": {
            "text/plain": "64"
          },
          "metadata": {}
        }
      ],
      "execution_count": 12,
      "metadata": {}
    },
    {
      "cell_type": "markdown",
      "source": [
        "Why do we want to get batches of 64 when iterating over the `Dataset`? We'll come back to that in the section on training. But first we need to learn about the neural network architecture we'll use for this sample."
      ],
      "metadata": {}
    }
  ],
  "metadata": {
    "interpreter": {
      "hash": "322def6d9eafe65d19dfaee2fc4a6353a7e975f38a3d058434ac22ddbd6ca8db"
    },
    "kernelspec": {
      "name": "conda-env-azureml_py38_PT_and_TF-py",
      "language": "python",
      "display_name": "azureml_py38_PT_and_TF"
    },
    "language_info": {
      "name": "python",
      "version": "3.8.5",
      "mimetype": "text/x-python",
      "codemirror_mode": {
        "name": "ipython",
        "version": 3
      },
      "pygments_lexer": "ipython3",
      "nbconvert_exporter": "python",
      "file_extension": ".py"
    },
    "kernel_info": {
      "name": "conda-env-azureml_py38_PT_and_TF-py"
    },
    "nteract": {
      "version": "nteract-front-end@1.0.0"
    }
  },
  "nbformat": 4,
  "nbformat_minor": 4
}