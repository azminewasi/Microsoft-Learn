{
  "cells": [
    {
      "cell_type": "markdown",
      "source": [
        "# Introduction to image data\r\n",
        "\r\n",
        "In computer vision, we normally solve one of the following problems:\r\n",
        "\r\n",
        "* **Image Classification** is the simplest task, when we need to classify an image into one of many pre-defined categories, for example, distinguish a cat from a dog on a photograph, or recognize a handwritten digit.\r\n",
        "\r\n",
        "* **Object Detection** is a bit more difficult task, in which we need to find known objects on the picture and localize them, i.e. return the **bounding box** for each of recognized objects.\r\n",
        "\r\n",
        "* **Segmentation** is similar to object detection, but instead of giving bounding box we need to return an exact pixel map outlining each of the recognized objects.  \r\n",
        "\r\n",
        "![An image showing how computer vision object detection can be performed with cats, dogs, and ducks.](https://i.stack.imgur.com/mFBCV.png)\r\n",
        "\r\n",
        "Image taken from [CS224d Stanford Course](https://cs224d.stanford.edu/index.html)\r\n",
        "\r\n",
        "## Images as Tensors\r\n",
        "\r\n",
        "Computer Vision works with Images. As you probably know, images consist of pixels, so they can be thought of as a rectangular collection (array) of pixels.\r\n",
        "\r\n",
        "In the first part of this tutorial, we will deal with handwritten digit recognition. We will use the MNIST dataset, which consists of grayscale images of handwritten digits, 28x28 pixels. Each image can be represented as 28x28 array, and elements of this array would denote intensity of corresponding pixel - either in the scale of range 0 to 1 (in which case floating point numbers are used), or 0 to 255 (integers). A popular python library called `numpy` is often used with computer vision tasks, because it allows to operate with multidimensional arrays effectively.\r\n",
        "\r\n",
        "To deal with color images, we need some way to represent colors. In most cases, we represent each pixel by 3 intensity values, corresponding to Red (R), Green (G) and Blue (B) components. This color encoding is called RGB, and thus color image of size $W\\times H$ will be represented as an array of size $H\\times W\\times 3$ (sometimes the order of components might be different, but the idea is the same).\r\n",
        "\r\n",
        "Multi-dimensional arrays are also called **tensors**. Using tensors to represent images also has an advantage, because we can use an extra dimension to store a sequence of images. For example, to represent a video fragment consisting of 200 frames with 800x600 dimension, we may use the tensor of size 200x600x800x3.\r\n",
        "\r\n",
        "## TensorFlow and Keras versions\r\n"
      ],
      "metadata": {}
    },
    {
      "cell_type": "code",
      "source": [
        "#Import the packages needed.\r\n",
        "import tensorflow as tf\r\n",
        "from tensorflow import keras\r\n",
        "import matplotlib.pyplot as plt\r\n",
        "import numpy as np\r\n",
        "import os\r\n",
        "\r\n",
        "# In this tutorial, we will be training a lot of models. In order to use GPU memory cautiously,\r\n",
        "# we will set tensorflow option to grow GPU memory allocation when required.\r\n",
        "physical_devices = tf.config.list_physical_devices('GPU') \r\n",
        "if len(physical_devices)>0:\r\n",
        "    tf.config.experimental.set_memory_growth(physical_devices[0], True)\r\n",
        "\r\n",
        "print(tf.__version__)"
      ],
      "outputs": [
        {
          "output_type": "stream",
          "name": "stdout",
          "text": "2.3.1\n"
        }
      ],
      "execution_count": 8,
      "metadata": {
        "tags": []
      }
    },
    {
      "cell_type": "markdown",
      "source": [
        "TensorFlow is now at version 2, and it differs significantly between versions 1 and 2. Thus it is important to check that we have correct version, otherwise the code is likely not to work.\r\n",
        "\r\n",
        "In version 2 TensorFlow added a higher-level neural network construction API called [**Keras**](http://keras.io). With Keras, most model building steps can be done in a much simpler way. This has made Keras a preferred way to start training deep learning networks. Only switching to pure TensorFlow when you need to develop some custom architectures for research or more complex scenarios. Since Keras is part of TensorFlow, the terms are used interchangeably and many times when someone says TensorFlow they are actually talking about the Keras.\r\n",
        "\r\n",
        "In this tutorial, we will focused on developing neural networks using **Keras** in **TensorFlow 2**.\r\n",
        "\r\n",
        "## Loading the MNIST Dataset\r\n",
        "\r\n",
        "Keras has a [number of datasets](https://www.TensorFlow.org/api_docs/python/tf/keras/datasets) available right from the library. Here we are using the well-known [MNIST](http://yann.lecun.com/exdb/mnist/) dataset of handwritten digits, available through `tf.keras.datasets.mnist`. It has a function `load_data()` that returns train and test MNIST datasets.\r\n",
        "\r\n",
        "When using your own notebooks, you can experiment with the other built in datasets, in particular [FashionMNIST](https://www.TensorFlow.org/api_docs/python/tf/keras/datasets/fashion_mnist). It has exactly the same shape as MNIST, but contains outlines of different clothing types. You should be able to experiment with FashionMNIST by simply replacing the dataset name below.\r\n",
        "\r\n",
        "> **Note**: When running this sample code locally, data would automatically be downloaded, you can just call `load_data()` without parameters. For the sandbox environment, we need to pre-fetch the data locally in advance, before calling `load_data`. If you are running on a local notebook, you can ignore the next cell:"
      ],
      "metadata": {}
    },
    {
      "cell_type": "code",
      "source": [
        "# Pre-fetch the data for the Learn Module\r\n",
        "!mkdir -p ~/.keras/datasets\r\n",
        "!wget -P ~/.keras/datasets -q https://github.com/MicrosoftDocs/tensorflowfundamentals/raw/main/data/mnist.npz"
      ],
      "outputs": [],
      "execution_count": 9,
      "metadata": {}
    },
    {
      "cell_type": "code",
      "source": [
        "(x_train,y_train),(x_test,y_test) = keras.datasets.mnist.load_data()\r\n",
        "\r\n",
        "print(x_train.shape, y_train.shape)\r\n",
        "print(x_test.shape,y_test.shape)"
      ],
      "outputs": [
        {
          "output_type": "stream",
          "name": "stdout",
          "text": "(60000, 28, 28) (60000,)\n(10000, 28, 28) (10000,)\n"
        }
      ],
      "execution_count": 10,
      "metadata": {}
    },
    {
      "cell_type": "markdown",
      "source": [
        "## Visualize the digits dataset\n",
        "Now that we have downloaded the dataset we can visualize some of the digits"
      ],
      "metadata": {}
    },
    {
      "cell_type": "code",
      "source": [
        "fig,ax = plt.subplots(1,7)\r\n",
        "for i in range(7):\r\n",
        "    ax[i].imshow(x_train[i])\r\n",
        "    ax[i].set_title(y_train[i])\r\n",
        "    ax[i].axis('off')"
      ],
      "outputs": [
        {
          "output_type": "display_data",
          "data": {
            "text/plain": "<Figure size 432x288 with 7 Axes>",
            "image/png": "[encoded data removed]"
          },
          "metadata": {
            "needs_background": "light"
          }
        }
      ],
      "execution_count": 11,
      "metadata": {}
    },
    {
      "cell_type": "markdown",
      "source": [
        "## Dataset structure\r\n",
        "\r\n",
        "We have a total of 60000 training images (stored in `x_train`) and 10000 testing images (in `x_test`). Labels corresponding to those images are contained in `y_train` and `y_test` accordingly."
      ],
      "metadata": {}
    },
    {
      "cell_type": "code",
      "source": [
        "print('Training samples:',len(x_train))\r\n",
        "print('Test samples:',len(x_test))\r\n",
        "\r\n",
        "print('Tensor size:',x_train[0].shape)\r\n",
        "print('First 10 digits are:', y_train[:10])\r\n",
        "print('Type of data is ',type(x_train))"
      ],
      "outputs": [
        {
          "output_type": "stream",
          "name": "stdout",
          "text": "Training samples: 60000\nTest samples: 10000\nTensor size: (28, 28)\nFirst 10 digits are: [5 0 4 1 9 2 1 3 1 4]\nType of data is  <class 'numpy.ndarray'>\n"
        }
      ],
      "execution_count": 12,
      "metadata": {}
    },
    {
      "cell_type": "markdown",
      "source": [
        "As you can see, the type of data is numpy array, which allows us to manipulate it using any numpy operations. All pixels of the images are represented by integer numbers from 0 to 255:"
      ],
      "metadata": {}
    },
    {
      "cell_type": "code",
      "source": [
        "print('Min intensity value: ',x_train.min())\r\n",
        "print('Max intensity value: ',x_train.max())"
      ],
      "outputs": [
        {
          "output_type": "stream",
          "name": "stdout",
          "text": "Min intensity value:  0\nMax intensity value:  255\n"
        }
      ],
      "execution_count": 13,
      "metadata": {}
    },
    {
      "cell_type": "markdown",
      "source": [
        "The reason it is between 0 and 255 is because of how color is represented in a binary format. RGB (red, green, blue) are each represented as a 0-255 value to create digital colors.  If we load any image from file using [OpenCV](https://opencv.org/) or [PIL](https://pillow.readthedocs.io/en/stable/) you will end up having numpy array with pixel intensities in the same range [0..255].\r\n",
        "\r\n",
        "> Note: If you are loading color image, the shape of the array would be slightly different, each pixel contains 3 color values (R,G and B). Thus the image 300x300 pixels will be represented by 300x300x3 numpy array.\r\n",
        "\r\n",
        "If we want to feed our images to the neural network, it is important to make sure that all values are scaled to the range [**0 - 1**] before we start training. So, we will rescale the dataset in order to have all values in the required normalized range:"
      ],
      "metadata": {}
    },
    {
      "cell_type": "code",
      "source": [
        "x_train = x_train.astype(np.float32)/255.0\r\n",
        "x_test = x_test.astype(np.float32)/255.0"
      ],
      "outputs": [],
      "execution_count": 14,
      "metadata": {}
    },
    {
      "cell_type": "markdown",
      "source": [
        "Now we have the data, and we are ready to start training our first neural network!"
      ],
      "metadata": {}
    }
  ],
  "metadata": {
    "interpreter": {
      "hash": "86193a1ab0ba47eac1c69c1756090baa3b420b3eea7d4aafab8b85f8b312f0c5"
    },
    "kernelspec": {
      "name": "conda-env-azureml_py38_PT_and_TF-py",
      "language": "python",
      "display_name": "azureml_py38_PT_and_TF"
    },
    "language_info": {
      "name": "python",
      "version": "3.7.9",
      "mimetype": "text/x-python",
      "codemirror_mode": {
        "name": "ipython",
        "version": 3
      },
      "pygments_lexer": "ipython3",
      "nbconvert_exporter": "python",
      "file_extension": ".py"
    },
    "kernel_info": {
      "name": "azureml_py38_PT_and_TF"
    },
    "nteract": {
      "version": "nteract-front-end@1.0.0"
    }
  },
  "nbformat": 4,
  "nbformat_minor": 4
}