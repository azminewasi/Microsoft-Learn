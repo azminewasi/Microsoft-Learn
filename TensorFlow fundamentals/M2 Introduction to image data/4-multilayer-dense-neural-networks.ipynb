{
  "cells": [
    {
      "cell_type": "markdown",
      "source": [
        "# Multi-layer networks\r\n",
        "\r\n",
        "In the previous unit, we have used one-layer dense neural network to classify handwritten digits. Now let's see if adding more layers will give us better performance in terms of accuracy.\r\n",
        "\r\n",
        "Let's start by importing things and loading data:"
      ],
      "metadata": {}
    },
    {
      "cell_type": "code",
      "source": [
        "import tensorflow as tf\r\n",
        "from tensorflow import keras\r\n",
        "import matplotlib.pyplot as plt\r\n",
        "import numpy as np\r\n",
        "import os\r\n",
        "\r\n",
        "# In this tutorial, we will be training a lot of models. In order to use GPU memory cautiously,\r\n",
        "# we will set tensorflow option to grow GPU memory allocation when required.\r\n",
        "physical_devices = tf.config.list_physical_devices('GPU') \r\n",
        "if len(physical_devices)>0:\r\n",
        "    tf.config.experimental.set_memory_growth(physical_devices[0], True)\r\n"
      ],
      "outputs": [],
      "execution_count": 1,
      "metadata": {}
    },
    {
      "cell_type": "code",
      "source": [
        "# Pre-fetch the data when running in sandbox environment\r\n",
        "!mkdir -p ~/.keras/datasets\r\n",
        "!wget -P ~/.keras/datasets -q https://github.com/MicrosoftDocs/tensorflowfundamentals/raw/main/data/mnist.npz"
      ],
      "outputs": [],
      "execution_count": 2,
      "metadata": {}
    },
    {
      "cell_type": "code",
      "source": [
        "(x_train,y_train),(x_test,y_test) = keras.datasets.mnist.load_data()\r\n",
        "\r\n",
        "x_train = x_train.astype(np.float32) / 255.0\r\n",
        "x_test = x_test.astype(np.float32) / 255.0"
      ],
      "outputs": [],
      "execution_count": 3,
      "metadata": {}
    },
    {
      "cell_type": "markdown",
      "source": [
        "## Multi-layer perceptron\r\n",
        "\r\n",
        "In a multi-layer network, we will add one or more **hidden layers**.\r\n",
        "\r\n",
        "![An image showing a multi-layer network with a hidden layer between the input layer and the output layer.](notebooks/images/dense-multilayer-network.png)\r\n",
        "\r\n",
        "This layer may contain any number of neurons, which will affect how powerful our neural network it, i.e. how many parameters will it have. The more parameters there are in the network - the more data we need to train it.\r\n",
        "\r\n",
        "However, _more_ is not always _better_. A number of parameters of a neural network should be chosen depending on the dataset size, to prevent **overfitting**.\r\n",
        "\r\n",
        "Our network layer structure will look like this:\r\n",
        "\r\n",
        "![An image showing the network layer structure as it's broken down into layers.](notebooks/images/multilayer-network-layers.png)\r\n",
        "\r\n",
        "An important thing to note here is the non-linear activation function layer, called **ReLU**. It is important to introduce those non-linear activation functions, because they are one of the reasons neural networks achieve high expressive power. Indeed, it can be demonstrated mathematically that if a network consisted just of a series of linear layers, it would essentially be equivalent to one linear layer. Thus inserting non-linear functions in between layers is important!\r\n",
        "\r\n",
        "Here's how two of the most frequently used activation functions look:"
      ],
      "metadata": {}
    },
    {
      "cell_type": "code",
      "source": [
        "def plot_function(f,name=''):\r\n",
        "    plt.plot(range(-10,10), [f(tf.constant(x,dtype=tf.float32)) for x in range(-10,10)])\r\n",
        "    plt.title(name)\r\n",
        "\r\n",
        "plt.subplot(121)\r\n",
        "plot_function(tf.nn.relu,'ReLU')\r\n",
        "plt.subplot(122)\r\n",
        "plot_function(tf.nn.sigmoid,'Sigmoid')\r\n"
      ],
      "outputs": [
        {
          "output_type": "display_data",
          "data": {
            "text/plain": "<Figure size 432x288 with 2 Axes>",
            "image/png": "[encoded data removed]"
          },
          "metadata": {
            "needs_background": "light"
          }
        }
      ],
      "execution_count": 4,
      "metadata": {}
    },
    {
      "cell_type": "markdown",
      "source": [
        "## Another Way of Defining a Model\r\n",
        "\r\n",
        "Our network can be defined in Keras in the following way. We will modified the approach by initializing the `model` object first, and then adding all layers one by one:"
      ],
      "metadata": {}
    },
    {
      "cell_type": "code",
      "source": [
        "model = keras.models.Sequential()\r\n",
        "model.add(keras.layers.Flatten(input_shape=(28,28)))\r\n",
        "model.add(keras.layers.Dense(100))     # 784 inputs, 100 outputs\r\n",
        "model.add(keras.layers.ReLU())         # Activation Function\r\n",
        "model.add(keras.layers.Dense(10))      # 100 inputs, 10 outputs\r\n",
        "\r\n",
        "model.summary()"
      ],
      "outputs": [
        {
          "output_type": "stream",
          "name": "stdout",
          "text": "Model: \"sequential\"\n_________________________________________________________________\nLayer (type)                 Output Shape              Param #   \n=================================================================\nflatten (Flatten)            (None, 784)               0         \n_________________________________________________________________\ndense (Dense)                (None, 100)               78500     \n_________________________________________________________________\nre_lu (ReLU)                 (None, 100)               0         \n_________________________________________________________________\ndense_1 (Dense)              (None, 10)                1010      \n=================================================================\nTotal params: 79,510\nTrainable params: 79,510\nNon-trainable params: 0\n_________________________________________________________________\n"
        }
      ],
      "execution_count": 5,
      "metadata": {}
    },
    {
      "cell_type": "markdown",
      "source": [
        "## Sparse Categorical Crossentropy with Softmax\r\n",
        "\r\n",
        "You have probably noticed that we did not use **softmax** as the activation function after the last layer. Keras allows us to combine the activation function together with loss function which means we just need to make sure and specify `from_logits=True` flag when defining loss function in `compile`.\r\n",
        "\r\n",
        "Also, in most of the cases when we have a multi-class classification, our dataset contains the number of class, which we then convert to one-hot encoding. However, this uses quite a lot of extra memory, and we can in fact define the loss function in such a way that it will expect the **number of class**, instead of the corresponding one-hot vector. This loss function is called **sparse categorical cross-entropy**.\r\n"
      ],
      "metadata": {}
    },
    {
      "cell_type": "code",
      "source": [
        "model.compile(loss=keras.losses.SparseCategoricalCrossentropy(from_logits=True),metrics=['acc'])"
      ],
      "outputs": [],
      "execution_count": 6,
      "metadata": {}
    },
    {
      "cell_type": "markdown",
      "source": [
        "Let's fit the model and make sure it gives good results:"
      ],
      "metadata": {}
    },
    {
      "cell_type": "code",
      "source": [
        "hist = model.fit(x_train,y_train, validation_data=(x_test,y_test), epochs=5)"
      ],
      "outputs": [
        {
          "output_type": "stream",
          "name": "stdout",
          "text": "Epoch 1/5\n1875/1875 [==============================] - 4s 2ms/step - loss: 0.2672 - acc: 0.9245 - val_loss: 0.1427 - val_acc: 0.9555\b\b\b\b\b\b\b\b\b\b\b\b\b\b\b\b\b\b\b\b\b\b\b\b\b\b\b\b\b\b\b\b\b\b\b\b\b\b\b\b\nEpoch 2/5\n1875/1875 [==============================] - 4s 2ms/step - loss: 0.1284 - acc: 0.9627 - val_loss: 0.1073 - val_acc: 0.9678\b\b\b\b\b\b\b\b\b\b\b\b\b\b\b\b\b\b\b\b\b\b\b\b\b\b\b\b\b\b\b\b\b\b\b\b\b\b\b\b\nEpoch 3/5\n1875/1875 [==============================] - 4s 2ms/step - loss: 0.0956 - acc: 0.9719 - val_loss: 0.1006 - val_acc: 0.9719\b\b\b\b\b\b\b\b\b\b\b\b\b\b\b\b\b\b\b\b\b\b\b\b\b\b\b\b\b\b\b\b\b\b\b\b\b\b\b\b\nEpoch 4/5\n1875/1875 [==============================] - 4s 2ms/step - loss: 0.0766 - acc: 0.9778 - val_loss: 0.0898 - val_acc: 0.9723\b\b\b\b\b\b\b\b\b\b\b\b\b\b\b\b\b\b\b\b\b\b\b\b\b\b\b\b\b\b\b\b\b\b\b\b\b\b\b\b\nEpoch 5/5\n1875/1875 [==============================] - 4s 2ms/step - loss: 0.0665 - acc: 0.9809 - val_loss: 0.0878 - val_acc: 0.9765\b\b\b\b\b\b\b\b\b\b\b\b\b\b\b\b\b\b\b\b\b\b\b\b\b\b\b\b\b\b\b\b\b\b\b\b\b\b\b\b\n"
        }
      ],
      "execution_count": 7,
      "metadata": {}
    },
    {
      "cell_type": "code",
      "source": [
        "for x in ['acc','val_acc']:\r\n",
        "    plt.plot(hist.history[x])"
      ],
      "outputs": [
        {
          "output_type": "display_data",
          "data": {
            "text/plain": "<Figure size 432x288 with 1 Axes>",
            "image/png": "[encoded data removed]"
          },
          "metadata": {
            "needs_background": "light"
          }
        }
      ],
      "execution_count": 8,
      "metadata": {}
    },
    {
      "cell_type": "markdown",
      "source": [
        "Please note the following:\r\n",
        " * This network is more expressive than the one layered perceptron we have trained in the previous unit. Thus it achieves a much higher training accuracy and given sufficiently large number of parameters - it can get to almost 100% if we train for long enough. If not - we can increase the number of neurons in the hidden layer.\r\n",
        " * Even if we achieve very high training accuracy - validation accuracy typically does not go above a certain point. Once the validation accuracy stops increasing - it means that the model has reached it's ability to generalize, and further training is likely to result in **overfitting**.\r\n",
        "\r\n",
        "## Overfitting\r\n",
        "\r\n",
        "> **Overfitting** is a very important concept to understand. It means that our model fits the training data very well, but does not further generalize well on unseen data. Often overfitting results in validation accuracy starting to increase, which means that model is becoming worse with further training.\r\n",
        "\r\n",
        "What you can do to overcome overfitting:\r\n",
        "* Make the model less powerful by decreasing the number of parameters\r\n",
        "* Increase the number of training examples, maybe by using some clever approaches such as **data augmentation**\r\n",
        "* Stop training as soon as validation accuracy starts dropping "
      ],
      "metadata": {}
    },
    {
      "cell_type": "markdown",
      "source": [
        "## Shorter Model Definitions\r\n",
        "\r\n",
        "In many cases a model consists of a number of layers, and activation functions in between those layers. To make model definitions shorter, Keras allows us to specify activation function that follows the layer right inside the layer definition, like this: "
      ],
      "metadata": {}
    },
    {
      "cell_type": "code",
      "source": [
        "model = keras.models.Sequential()\r\n",
        "model.add(keras.layers.Flatten(input_shape=(28,28)))\r\n",
        "model.add(keras.layers.Dense(100,activation='relu'))\r\n",
        "model.add(keras.layers.Dense(10,activation=None))\r\n",
        "\r\n",
        "model.summary()"
      ],
      "outputs": [
        {
          "output_type": "stream",
          "name": "stdout",
          "text": "Model: \"sequential_1\"\n_________________________________________________________________\nLayer (type)                 Output Shape              Param #   \n=================================================================\nflatten_1 (Flatten)          (None, 784)               0         \n_________________________________________________________________\ndense_2 (Dense)              (None, 100)               78500     \n_________________________________________________________________\ndense_3 (Dense)              (None, 10)                1010      \n=================================================================\nTotal params: 79,510\nTrainable params: 79,510\nNon-trainable params: 0\n_________________________________________________________________\n"
        }
      ],
      "execution_count": 9,
      "metadata": {}
    },
    {
      "cell_type": "markdown",
      "source": [
        "As you can see, this model is equivalent to the one above, but the definition looks neater."
      ],
      "metadata": {}
    },
    {
      "cell_type": "markdown",
      "source": [
        "## Takeaway\r\n",
        "\r\n",
        "Multi-level networks can achieve higher accuracy than single-layer perceptron, however, they are not perfect for computer vision tasks. In images, there are some structural patterns that can help us classify an object regardless of it's position in the image, but perceptrons do not allow us to extract those patterns and look for them selectively. In the next unit we will focus on a special type of neural networks that can be used effectively for computer vision tasks."
      ],
      "metadata": {}
    }
  ],
  "metadata": {
    "orig_nbformat": 4,
    "language_info": {
      "name": "python",
      "version": "3.7.9",
      "mimetype": "text/x-python",
      "codemirror_mode": {
        "name": "ipython",
        "version": 3
      },
      "pygments_lexer": "ipython3",
      "nbconvert_exporter": "python",
      "file_extension": ".py"
    },
    "kernelspec": {
      "name": "conda-env-azureml_py38_PT_and_TF-py",
      "language": "python",
      "display_name": "azureml_py38_PT_and_TF"
    },
    "kernel_info": {
      "name": "azureml_py38_PT_and_TF"
    },
    "nteract": {
      "version": "nteract-front-end@1.0.0"
    }
  },
  "nbformat": 4,
  "nbformat_minor": 2
}